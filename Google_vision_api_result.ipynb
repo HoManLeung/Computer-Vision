{
  "nbformat": 4,
  "nbformat_minor": 0,
  "metadata": {
    "colab": {
      "name": "GA Deep learning with Google vision api result.ipynb",
      "provenance": []
    },
    "kernelspec": {
      "name": "python3",
      "display_name": "Python 3"
    },
    "accelerator": "TPU"
  },
  "cells": [
    {
      "cell_type": "code",
      "metadata": {
        "id": "RPNrd36eeAO_",
        "colab": {
          "base_uri": "https://localhost:8080/"
        },
        "outputId": "42f760da-c984-49a8-c776-f26207a180ed"
      },
      "source": [
        "pip install keras"
      ],
      "execution_count": null,
      "outputs": [
        {
          "output_type": "stream",
          "text": [
            "Requirement already satisfied: keras in /usr/local/lib/python3.6/dist-packages (2.4.3)\n",
            "Requirement already satisfied: pyyaml in /usr/local/lib/python3.6/dist-packages (from keras) (3.13)\n",
            "Requirement already satisfied: h5py in /usr/local/lib/python3.6/dist-packages (from keras) (2.10.0)\n",
            "Requirement already satisfied: numpy>=1.9.1 in /usr/local/lib/python3.6/dist-packages (from keras) (1.19.4)\n",
            "Requirement already satisfied: scipy>=0.14 in /usr/local/lib/python3.6/dist-packages (from keras) (1.4.1)\n",
            "Requirement already satisfied: six in /usr/local/lib/python3.6/dist-packages (from h5py->keras) (1.15.0)\n"
          ],
          "name": "stdout"
        }
      ]
    },
    {
      "cell_type": "code",
      "metadata": {
        "id": "YD4W3bCPeRnx"
      },
      "source": [
        "from keras.layers import Input,Lambda,Dense,Flatten,Conv2D, MaxPooling2D,Dropout,Activation,Reshape\n",
        "from keras.layers.experimental import preprocessing\n",
        "from keras.models import Model\n",
        "from keras import regularizers, optimizers\n",
        "from keras.applications.vgg16 import VGG16\n",
        "from keras.models import Sequential\n",
        "from keras.preprocessing import image,image_dataset_from_directory\n",
        "import pandas as pd\n",
        "import numpy as np\n",
        "import matplotlib.pyplot as plt\n",
        "import os\n",
        "import pathlib\n",
        "import PIL\n",
        "import cv2\n",
        "from sklearn.preprocessing import MultiLabelBinarizer\n",
        "import tqdm\n",
        "import seaborn as sns"
      ],
      "execution_count": null,
      "outputs": []
    },
    {
      "cell_type": "code",
      "metadata": {
        "colab": {
          "base_uri": "https://localhost:8080/",
          "height": 198
        },
        "id": "SGureJxTEGan",
        "outputId": "a88f9785-284b-450c-b634-9d0413bb753d"
      },
      "source": [
        "label=pd.read_csv('/content/drive/MyDrive/GA Work/Image_label_demo.csv',index_col=0)\n",
        "label.head()"
      ],
      "execution_count": null,
      "outputs": [
        {
          "output_type": "execute_result",
          "data": {
            "text/html": [
              "<div>\n",
              "<style scoped>\n",
              "    .dataframe tbody tr th:only-of-type {\n",
              "        vertical-align: middle;\n",
              "    }\n",
              "\n",
              "    .dataframe tbody tr th {\n",
              "        vertical-align: top;\n",
              "    }\n",
              "\n",
              "    .dataframe thead th {\n",
              "        text-align: right;\n",
              "    }\n",
              "</style>\n",
              "<table border=\"1\" class=\"dataframe\">\n",
              "  <thead>\n",
              "    <tr style=\"text-align: right;\">\n",
              "      <th></th>\n",
              "      <th>Image_name</th>\n",
              "      <th>description</th>\n",
              "      <th>score</th>\n",
              "      <th>topicality</th>\n",
              "    </tr>\n",
              "  </thead>\n",
              "  <tbody>\n",
              "    <tr>\n",
              "      <th>0</th>\n",
              "      <td>000ac7f648.jpg</td>\n",
              "      <td>Clothing</td>\n",
              "      <td>0.992143</td>\n",
              "      <td>0.992143</td>\n",
              "    </tr>\n",
              "    <tr>\n",
              "      <th>1</th>\n",
              "      <td>000ac7f648.jpg</td>\n",
              "      <td>Sleeve</td>\n",
              "      <td>0.971029</td>\n",
              "      <td>0.971029</td>\n",
              "    </tr>\n",
              "    <tr>\n",
              "      <th>2</th>\n",
              "      <td>000ac7f648.jpg</td>\n",
              "      <td>Shoulder</td>\n",
              "      <td>0.965546</td>\n",
              "      <td>0.965546</td>\n",
              "    </tr>\n",
              "    <tr>\n",
              "      <th>3</th>\n",
              "      <td>0187c40f0a.jpg</td>\n",
              "      <td>Sleeve</td>\n",
              "      <td>0.971030</td>\n",
              "      <td>0.971030</td>\n",
              "    </tr>\n",
              "    <tr>\n",
              "      <th>4</th>\n",
              "      <td>0187c40f0a.jpg</td>\n",
              "      <td>Pattern</td>\n",
              "      <td>0.968143</td>\n",
              "      <td>0.968143</td>\n",
              "    </tr>\n",
              "  </tbody>\n",
              "</table>\n",
              "</div>"
            ],
            "text/plain": [
              "       Image_name description     score  topicality\n",
              "0  000ac7f648.jpg    Clothing  0.992143    0.992143\n",
              "1  000ac7f648.jpg      Sleeve  0.971029    0.971029\n",
              "2  000ac7f648.jpg    Shoulder  0.965546    0.965546\n",
              "3  0187c40f0a.jpg      Sleeve  0.971030    0.971030\n",
              "4  0187c40f0a.jpg     Pattern  0.968143    0.968143"
            ]
          },
          "metadata": {
            "tags": []
          },
          "execution_count": 3
        }
      ]
    },
    {
      "cell_type": "code",
      "metadata": {
        "colab": {
          "base_uri": "https://localhost:8080/"
        },
        "id": "9EfnNNv2fvPp",
        "outputId": "97eecdcb-8fc6-4f4f-d753-e9cfb9336108"
      },
      "source": [
        "label.description.nunique()"
      ],
      "execution_count": null,
      "outputs": [
        {
          "output_type": "execute_result",
          "data": {
            "text/plain": [
              "30"
            ]
          },
          "metadata": {
            "tags": []
          },
          "execution_count": 4
        }
      ]
    },
    {
      "cell_type": "code",
      "metadata": {
        "colab": {
          "base_uri": "https://localhost:8080/"
        },
        "id": "u1vfmQNtfIMD",
        "outputId": "8c580ad2-a6b7-483a-d968-d7b476579e48"
      },
      "source": [
        "label_with97score=label[label.score>0.97]\n",
        "label_with97score['description'].nunique()"
      ],
      "execution_count": null,
      "outputs": [
        {
          "output_type": "execute_result",
          "data": {
            "text/plain": [
              "19"
            ]
          },
          "metadata": {
            "tags": []
          },
          "execution_count": 5
        }
      ]
    },
    {
      "cell_type": "code",
      "metadata": {
        "colab": {
          "base_uri": "https://localhost:8080/"
        },
        "id": "75Oya-2Ed5Gz",
        "outputId": "cdc6dbd1-9926-4f36-e5ef-fe1cf3ef91b2"
      },
      "source": [
        "label_with97score['description'].unique()"
      ],
      "execution_count": null,
      "outputs": [
        {
          "output_type": "execute_result",
          "data": {
            "text/plain": [
              "array(['Clothing', 'Sleeve', 'Green', 'Dress', 'Product', 'Brown', 'Blue',\n",
              "       'Leg', 'Human leg', 'Finger', 'Yellow', 'Pattern', 'Hairstyle',\n",
              "       'Window', 'Hat', 'Footwear', 'Skin', 'Dress shirt', 'Collar'],\n",
              "      dtype=object)"
            ]
          },
          "metadata": {
            "tags": []
          },
          "execution_count": 6
        }
      ]
    },
    {
      "cell_type": "code",
      "metadata": {
        "colab": {
          "base_uri": "https://localhost:8080/",
          "height": 342
        },
        "id": "dHGeMqrZuocj",
        "outputId": "4cd6a9d2-77a2-4268-a6ce-4ec68c4147e0"
      },
      "source": [
        "image1=image.load_img('/content/drive/MyDrive/Image_test/a9e0a0066d.jpg')\n",
        "plt.imshow(image1)\n",
        "label[label['Image_name']=='a9e0a0066d.jpg'].description"
      ],
      "execution_count": null,
      "outputs": [
        {
          "output_type": "execute_result",
          "data": {
            "text/plain": [
              "192        Dress\n",
              "193    Human leg\n",
              "194     Shoulder\n",
              "Name: description, dtype: object"
            ]
          },
          "metadata": {
            "tags": []
          },
          "execution_count": 53
        },
        {
          "output_type": "display_data",
          "data": {
            "image/png": "[encoded data removed]",
            "text/plain": [
              "<Figure size 432x288 with 1 Axes>"
            ]
          },
          "metadata": {
            "tags": [],
            "needs_background": "light"
          }
        }
      ]
    },
    {
      "cell_type": "code",
      "metadata": {
        "colab": {
          "base_uri": "https://localhost:8080/",
          "height": 198
        },
        "id": "XXO7zf__eHL1",
        "outputId": "bb341945-d7ce-4a42-d632-a0cfade3fc95"
      },
      "source": [
        "discard_label=['Product','Leg','Human leg','Finger','Hairstyle','Window','Skin']\n",
        "\n",
        "final_label=label_with97score[~label_with97score.description.isin(discard_label)].reset_index(drop=True)\n",
        "final_label.head()"
      ],
      "execution_count": null,
      "outputs": [
        {
          "output_type": "execute_result",
          "data": {
            "text/html": [
              "<div>\n",
              "<style scoped>\n",
              "    .dataframe tbody tr th:only-of-type {\n",
              "        vertical-align: middle;\n",
              "    }\n",
              "\n",
              "    .dataframe tbody tr th {\n",
              "        vertical-align: top;\n",
              "    }\n",
              "\n",
              "    .dataframe thead th {\n",
              "        text-align: right;\n",
              "    }\n",
              "</style>\n",
              "<table border=\"1\" class=\"dataframe\">\n",
              "  <thead>\n",
              "    <tr style=\"text-align: right;\">\n",
              "      <th></th>\n",
              "      <th>Image_name</th>\n",
              "      <th>description</th>\n",
              "      <th>score</th>\n",
              "      <th>topicality</th>\n",
              "    </tr>\n",
              "  </thead>\n",
              "  <tbody>\n",
              "    <tr>\n",
              "      <th>0</th>\n",
              "      <td>000ac7f648.jpg</td>\n",
              "      <td>Clothing</td>\n",
              "      <td>0.992143</td>\n",
              "      <td>0.992143</td>\n",
              "    </tr>\n",
              "    <tr>\n",
              "      <th>1</th>\n",
              "      <td>000ac7f648.jpg</td>\n",
              "      <td>Sleeve</td>\n",
              "      <td>0.971029</td>\n",
              "      <td>0.971029</td>\n",
              "    </tr>\n",
              "    <tr>\n",
              "      <th>2</th>\n",
              "      <td>0187c40f0a.jpg</td>\n",
              "      <td>Sleeve</td>\n",
              "      <td>0.971030</td>\n",
              "      <td>0.971030</td>\n",
              "    </tr>\n",
              "    <tr>\n",
              "      <th>3</th>\n",
              "      <td>02d88b364f.jpg</td>\n",
              "      <td>Clothing</td>\n",
              "      <td>0.992518</td>\n",
              "      <td>0.992518</td>\n",
              "    </tr>\n",
              "    <tr>\n",
              "      <th>4</th>\n",
              "      <td>02d88b364f.jpg</td>\n",
              "      <td>Green</td>\n",
              "      <td>0.977933</td>\n",
              "      <td>0.977933</td>\n",
              "    </tr>\n",
              "  </tbody>\n",
              "</table>\n",
              "</div>"
            ],
            "text/plain": [
              "       Image_name description     score  topicality\n",
              "0  000ac7f648.jpg    Clothing  0.992143    0.992143\n",
              "1  000ac7f648.jpg      Sleeve  0.971029    0.971029\n",
              "2  0187c40f0a.jpg      Sleeve  0.971030    0.971030\n",
              "3  02d88b364f.jpg    Clothing  0.992518    0.992518\n",
              "4  02d88b364f.jpg       Green  0.977933    0.977933"
            ]
          },
          "metadata": {
            "tags": []
          },
          "execution_count": 7
        }
      ]
    },
    {
      "cell_type": "code",
      "metadata": {
        "id": "MWbMp6O-iAgG"
      },
      "source": [
        "multi_label=pd.DataFrame(columns=['Image_name','description'])\n",
        "for i in final_label.Image_name:\n",
        "  multi_label=multi_label.append({'Image_name':i,\n",
        "                  'description':list(final_label[final_label.Image_name==i]['description'])},ignore_index=True)"
      ],
      "execution_count": null,
      "outputs": []
    },
    {
      "cell_type": "code",
      "metadata": {
        "id": "TIJTRvrxnZ4k"
      },
      "source": [
        "multi_label.drop_duplicates(subset='Image_name',inplace=True)"
      ],
      "execution_count": null,
      "outputs": []
    },
    {
      "cell_type": "code",
      "metadata": {
        "colab": {
          "base_uri": "https://localhost:8080/",
          "height": 407
        },
        "id": "gCJpEOnlcEyq",
        "outputId": "1ca6b18a-7066-4c52-f27d-e4111555b798"
      },
      "source": [
        "multi_label.reset_index(drop=True,inplace=True)\n",
        "multi_label"
      ],
      "execution_count": null,
      "outputs": [
        {
          "output_type": "execute_result",
          "data": {
            "text/html": [
              "<div>\n",
              "<style scoped>\n",
              "    .dataframe tbody tr th:only-of-type {\n",
              "        vertical-align: middle;\n",
              "    }\n",
              "\n",
              "    .dataframe tbody tr th {\n",
              "        vertical-align: top;\n",
              "    }\n",
              "\n",
              "    .dataframe thead th {\n",
              "        text-align: right;\n",
              "    }\n",
              "</style>\n",
              "<table border=\"1\" class=\"dataframe\">\n",
              "  <thead>\n",
              "    <tr style=\"text-align: right;\">\n",
              "      <th></th>\n",
              "      <th>Image_name</th>\n",
              "      <th>description</th>\n",
              "    </tr>\n",
              "  </thead>\n",
              "  <tbody>\n",
              "    <tr>\n",
              "      <th>0</th>\n",
              "      <td>000ac7f648.jpg</td>\n",
              "      <td>[Clothing, Sleeve]</td>\n",
              "    </tr>\n",
              "    <tr>\n",
              "      <th>1</th>\n",
              "      <td>0187c40f0a.jpg</td>\n",
              "      <td>[Sleeve]</td>\n",
              "    </tr>\n",
              "    <tr>\n",
              "      <th>2</th>\n",
              "      <td>02d88b364f.jpg</td>\n",
              "      <td>[Clothing, Green, Sleeve]</td>\n",
              "    </tr>\n",
              "    <tr>\n",
              "      <th>3</th>\n",
              "      <td>099e0d557f.jpg</td>\n",
              "      <td>[Clothing, Dress, Sleeve]</td>\n",
              "    </tr>\n",
              "    <tr>\n",
              "      <th>4</th>\n",
              "      <td>0c91e46c7f.jpg</td>\n",
              "      <td>[Clothing, Dress, Sleeve]</td>\n",
              "    </tr>\n",
              "    <tr>\n",
              "      <th>...</th>\n",
              "      <td>...</td>\n",
              "      <td>...</td>\n",
              "    </tr>\n",
              "    <tr>\n",
              "      <th>81</th>\n",
              "      <td>f8b87c59ea.jpg</td>\n",
              "      <td>[Sleeve, Pattern]</td>\n",
              "    </tr>\n",
              "    <tr>\n",
              "      <th>82</th>\n",
              "      <td>fbd0fec2ff.jpg</td>\n",
              "      <td>[Blue, Yellow, Sleeve]</td>\n",
              "    </tr>\n",
              "    <tr>\n",
              "      <th>83</th>\n",
              "      <td>image1.jpg</td>\n",
              "      <td>[Blue, Dress shirt, Collar]</td>\n",
              "    </tr>\n",
              "    <tr>\n",
              "      <th>84</th>\n",
              "      <td>image2.jpg</td>\n",
              "      <td>[Clothing, Sleeve]</td>\n",
              "    </tr>\n",
              "    <tr>\n",
              "      <th>85</th>\n",
              "      <td>image3.jpg</td>\n",
              "      <td>[Collar, Sleeve]</td>\n",
              "    </tr>\n",
              "  </tbody>\n",
              "</table>\n",
              "<p>86 rows × 2 columns</p>\n",
              "</div>"
            ],
            "text/plain": [
              "        Image_name                  description\n",
              "0   000ac7f648.jpg           [Clothing, Sleeve]\n",
              "1   0187c40f0a.jpg                     [Sleeve]\n",
              "2   02d88b364f.jpg    [Clothing, Green, Sleeve]\n",
              "3   099e0d557f.jpg    [Clothing, Dress, Sleeve]\n",
              "4   0c91e46c7f.jpg    [Clothing, Dress, Sleeve]\n",
              "..             ...                          ...\n",
              "81  f8b87c59ea.jpg            [Sleeve, Pattern]\n",
              "82  fbd0fec2ff.jpg       [Blue, Yellow, Sleeve]\n",
              "83      image1.jpg  [Blue, Dress shirt, Collar]\n",
              "84      image2.jpg           [Clothing, Sleeve]\n",
              "85      image3.jpg             [Collar, Sleeve]\n",
              "\n",
              "[86 rows x 2 columns]"
            ]
          },
          "metadata": {
            "tags": []
          },
          "execution_count": 10
        }
      ]
    },
    {
      "cell_type": "code",
      "metadata": {
        "colab": {
          "base_uri": "https://localhost:8080/"
        },
        "id": "GrljHFJH3HvL",
        "outputId": "666037d6-56aa-4d22-ea90-471940574cbf"
      },
      "source": [
        "print(final_label['description'].unique())\n",
        "print(final_label['description'].nunique())"
      ],
      "execution_count": null,
      "outputs": [
        {
          "output_type": "stream",
          "text": [
            "['Clothing' 'Sleeve' 'Green' 'Dress' 'Brown' 'Blue' 'Yellow' 'Pattern'\n",
            " 'Hat' 'Footwear' 'Dress shirt' 'Collar']\n",
            "12\n"
          ],
          "name": "stdout"
        }
      ]
    },
    {
      "cell_type": "code",
      "metadata": {
        "colab": {
          "base_uri": "https://localhost:8080/",
          "height": 441
        },
        "id": "5_XvMJN8w03-",
        "outputId": "e8acb9d3-9329-496a-9b30-4d11e428ebdc"
      },
      "source": [
        "plt.figure(figsize=(10,6))\n",
        "sns.countplot(x='description',data=final_label)\n",
        "plt.tight_layout()"
      ],
      "execution_count": null,
      "outputs": [
        {
          "output_type": "display_data",
          "data": {
            "image/png": "[encoded data removed]",
            "text/plain": [
              "<Figure size 720x432 with 1 Axes>"
            ]
          },
          "metadata": {
            "tags": [],
            "needs_background": "light"
          }
        }
      ]
    },
    {
      "cell_type": "code",
      "metadata": {
        "colab": {
          "base_uri": "https://localhost:8080/"
        },
        "id": "iY-4F72QCz_U",
        "outputId": "b33194e8-77a6-48f4-85da-b3cff29a5a0d"
      },
      "source": [
        "mlb=MultiLabelBinarizer()\n",
        "labels=mlb.fit_transform(multi_label['description'])\n",
        "labels"
      ],
      "execution_count": null,
      "outputs": [
        {
          "output_type": "execute_result",
          "data": {
            "text/plain": [
              "array([[0, 0, 1, ..., 0, 1, 0],\n",
              "       [0, 0, 0, ..., 0, 1, 0],\n",
              "       [0, 0, 1, ..., 0, 1, 0],\n",
              "       ...,\n",
              "       [1, 0, 0, ..., 0, 0, 0],\n",
              "       [0, 0, 1, ..., 0, 1, 0],\n",
              "       [0, 0, 0, ..., 0, 1, 0]])"
            ]
          },
          "metadata": {
            "tags": []
          },
          "execution_count": 12
        }
      ]
    },
    {
      "cell_type": "code",
      "metadata": {
        "colab": {
          "base_uri": "https://localhost:8080/"
        },
        "id": "MC_4z7A3DKbT",
        "outputId": "ec356e11-bdce-4d0a-d4ab-8d06c213015d"
      },
      "source": [
        "print(mlb.classes_)\n",
        "\n",
        "print(labels.shape)"
      ],
      "execution_count": null,
      "outputs": [
        {
          "output_type": "stream",
          "text": [
            "['Blue' 'Brown' 'Clothing' 'Collar' 'Dress' 'Dress shirt' 'Footwear'\n",
            " 'Green' 'Hat' 'Pattern' 'Sleeve' 'Yellow']\n",
            "(86, 12)\n"
          ],
          "name": "stdout"
        }
      ]
    },
    {
      "cell_type": "code",
      "metadata": {
        "colab": {
          "base_uri": "https://localhost:8080/"
        },
        "id": "1_MKJhpEioZo",
        "outputId": "ae2acb53-5013-46d4-dfae-0985fcd6814a"
      },
      "source": [
        "drive_path=pathlib.Path('/content/drive/MyDrive/Image_test')\n",
        "drive_path"
      ],
      "execution_count": null,
      "outputs": [
        {
          "output_type": "execute_result",
          "data": {
            "text/plain": [
              "PosixPath('/content/drive/MyDrive/Image_test')"
            ]
          },
          "metadata": {
            "tags": []
          },
          "execution_count": 15
        }
      ]
    },
    {
      "cell_type": "code",
      "metadata": {
        "colab": {
          "base_uri": "https://localhost:8080/"
        },
        "id": "ALKu0Wr9j0dl",
        "outputId": "1e08b5fb-f5b6-420e-d5d8-d856dcb073cf"
      },
      "source": [
        "len(list(drive_path.glob('**/*.jpg')))"
      ],
      "execution_count": null,
      "outputs": [
        {
          "output_type": "execute_result",
          "data": {
            "text/plain": [
              "98"
            ]
          },
          "metadata": {
            "tags": []
          },
          "execution_count": 16
        }
      ]
    },
    {
      "cell_type": "code",
      "metadata": {
        "colab": {
          "base_uri": "https://localhost:8080/",
          "height": 35
        },
        "id": "w72HMiHXEPxx",
        "outputId": "816ff40d-4802-4839-c514-11afad2e83f1"
      },
      "source": [
        "str(drive_path)"
      ],
      "execution_count": null,
      "outputs": [
        {
          "output_type": "execute_result",
          "data": {
            "application/vnd.google.colaboratory.intrinsic+json": {
              "type": "string"
            },
            "text/plain": [
              "'/content/drive/MyDrive/Image_test'"
            ]
          },
          "metadata": {
            "tags": []
          },
          "execution_count": 17
        }
      ]
    },
    {
      "cell_type": "code",
      "metadata": {
        "colab": {
          "base_uri": "https://localhost:8080/"
        },
        "id": "Fegw7I7aO7wk",
        "outputId": "e962a06e-0f9a-4a58-e8da-0476394a7c08"
      },
      "source": [
        "len(multi_label)"
      ],
      "execution_count": null,
      "outputs": [
        {
          "output_type": "execute_result",
          "data": {
            "text/plain": [
              "86"
            ]
          },
          "metadata": {
            "tags": []
          },
          "execution_count": 18
        }
      ]
    },
    {
      "cell_type": "code",
      "metadata": {
        "colab": {
          "base_uri": "https://localhost:8080/"
        },
        "id": "uZ1xADBmk0fM",
        "outputId": "4d9bd9c4-95bf-424e-f9dd-f09e278a945d"
      },
      "source": [
        "x=[]\n",
        "path='/content/drive/MyDrive/Image_test/'\n",
        "\n",
        "for img in tqdm.tqdm((multi_label.Image_name)):\n",
        "  #read image as tensor array\n",
        "  Img=cv2.imread(path+str(img))\n",
        "  #resize\n",
        "  resize=cv2.resize(Img,(256,256))\n",
        "  x.append(resize)"
      ],
      "execution_count": null,
      "outputs": [
        {
          "output_type": "stream",
          "text": [
            "100%|██████████| 86/86 [00:01<00:00, 68.04it/s]\n"
          ],
          "name": "stderr"
        }
      ]
    },
    {
      "cell_type": "code",
      "metadata": {
        "colab": {
          "base_uri": "https://localhost:8080/"
        },
        "id": "SJyyZlnY0Bf3",
        "outputId": "4beccf77-f8d2-415e-f039-9e2296d741b4"
      },
      "source": [
        "# image shape\n",
        "x=np.array(x)\n",
        "x.shape"
      ],
      "execution_count": null,
      "outputs": [
        {
          "output_type": "execute_result",
          "data": {
            "text/plain": [
              "(86, 256, 256, 3)"
            ]
          },
          "metadata": {
            "tags": []
          },
          "execution_count": 20
        }
      ]
    },
    {
      "cell_type": "code",
      "metadata": {
        "colab": {
          "base_uri": "https://localhost:8080/"
        },
        "id": "MBgEjBkb0Nhj",
        "outputId": "1ac1cbe3-d2c9-467b-ab58-c910977b1f44"
      },
      "source": [
        "#scale\n",
        "scale_x=x/255\n",
        "scale_x[0]"
      ],
      "execution_count": null,
      "outputs": [
        {
          "output_type": "execute_result",
          "data": {
            "text/plain": [
              "array([[[0.90980392, 0.90980392, 0.90980392],\n",
              "        [0.90196078, 0.90196078, 0.90196078],\n",
              "        [0.90196078, 0.90196078, 0.90196078],\n",
              "        ...,\n",
              "        [0.91764706, 0.91764706, 0.91764706],\n",
              "        [0.90980392, 0.90980392, 0.90980392],\n",
              "        [0.91372549, 0.91372549, 0.91372549]],\n",
              "\n",
              "       [[0.90588235, 0.90588235, 0.90588235],\n",
              "        [0.90980392, 0.90980392, 0.90980392],\n",
              "        [0.91764706, 0.91764706, 0.91764706],\n",
              "        ...,\n",
              "        [0.9254902 , 0.9254902 , 0.9254902 ],\n",
              "        [0.9254902 , 0.9254902 , 0.9254902 ],\n",
              "        [0.9254902 , 0.9254902 , 0.9254902 ]],\n",
              "\n",
              "       [[0.89803922, 0.89803922, 0.89803922],\n",
              "        [0.89019608, 0.89019608, 0.89019608],\n",
              "        [0.89411765, 0.89411765, 0.89411765],\n",
              "        ...,\n",
              "        [0.93333333, 0.93333333, 0.93333333],\n",
              "        [0.93333333, 0.93333333, 0.93333333],\n",
              "        [0.92941176, 0.92941176, 0.92941176]],\n",
              "\n",
              "       ...,\n",
              "\n",
              "       [[0.85490196, 0.88627451, 0.88235294],\n",
              "        [0.86666667, 0.88235294, 0.88235294],\n",
              "        [0.8745098 , 0.8745098 , 0.8745098 ],\n",
              "        ...,\n",
              "        [0.93333333, 0.93333333, 0.93333333],\n",
              "        [0.9254902 , 0.9254902 , 0.9254902 ],\n",
              "        [0.93333333, 0.93333333, 0.93333333]],\n",
              "\n",
              "       [[0.85490196, 0.87843137, 0.8745098 ],\n",
              "        [0.85490196, 0.8745098 , 0.87058824],\n",
              "        [0.8627451 , 0.87058824, 0.87058824],\n",
              "        ...,\n",
              "        [0.92941176, 0.92941176, 0.92941176],\n",
              "        [0.93333333, 0.93333333, 0.93333333],\n",
              "        [0.92941176, 0.92941176, 0.92941176]],\n",
              "\n",
              "       [[0.85882353, 0.8745098 , 0.87058824],\n",
              "        [0.87058824, 0.8745098 , 0.8745098 ],\n",
              "        [0.8627451 , 0.8745098 , 0.8745098 ],\n",
              "        ...,\n",
              "        [0.92941176, 0.92941176, 0.92941176],\n",
              "        [0.92941176, 0.92941176, 0.92941176],\n",
              "        [0.92941176, 0.92941176, 0.92941176]]])"
            ]
          },
          "metadata": {
            "tags": []
          },
          "execution_count": 21
        }
      ]
    },
    {
      "cell_type": "code",
      "metadata": {
        "colab": {
          "base_uri": "https://localhost:8080/"
        },
        "id": "g6xQc0TD0qCb",
        "outputId": "4a40dffa-f3e9-4928-c145-7089f1111659"
      },
      "source": [
        "len(scale_x)"
      ],
      "execution_count": null,
      "outputs": [
        {
          "output_type": "execute_result",
          "data": {
            "text/plain": [
              "86"
            ]
          },
          "metadata": {
            "tags": []
          },
          "execution_count": 22
        }
      ]
    },
    {
      "cell_type": "code",
      "metadata": {
        "id": "4XIsuIbM5Ut5"
      },
      "source": [
        "#data_augmentation=image.ImageDataGenerator(width_shift_range= 0.2, height_shift_range= 0.2,\n",
        "                  #rotation_range= 90,\n",
        "                  #horizontal_flip= True, vertical_flip=True)"
      ],
      "execution_count": null,
      "outputs": []
    },
    {
      "cell_type": "code",
      "metadata": {
        "id": "5YepKoxI-RdL"
      },
      "source": [
        "data_aug=Sequential([preprocessing.RandomFlip('horizontal_and_vertical'),\n",
        "           preprocessing.RandomRotation(0.2),\n",
        "           preprocessing.RandomZoom(0.2)\n",
        "           ])"
      ],
      "execution_count": null,
      "outputs": []
    },
    {
      "cell_type": "code",
      "metadata": {
        "id": "OOXtnl9iz520",
        "colab": {
          "base_uri": "https://localhost:8080/"
        },
        "outputId": "561d2124-db09-4aa9-83d4-a12ba534744c"
      },
      "source": [
        "datagen=image.ImageDataGenerator(rescale = 1./255,width_shift_range= 0.2, height_shift_range= 0.2,\n",
        "                                 rotation_range= 90,\n",
        "                                horizontal_flip= True, vertical_flip=True)\n",
        "train_image_gen=datagen.flow_from_dataframe(dataframe=multi_label,directory='/content/drive/MyDrive/GA Work/dress',\n",
        "                            x_col='Image_name',y_col='description',\n",
        "                            class_mode='categorical',target_size=(256,256),\n",
        "                            classes=list(train_image_gen.class_indices.keys()))\n",
        "#test_image_gen=datagen.flow_from_dataframe(dataframe=multi_label[95:],directory='/content/drive/MyDrive/GA Work/dress',\n",
        "                            #x_col='Image_name',y_col='description',\n",
        "                            #class_mode='categorical',target_size=(256,256))\n"
      ],
      "execution_count": null,
      "outputs": [
        {
          "output_type": "stream",
          "text": [
            "Found 86 validated image filenames belonging to 12 classes.\n"
          ],
          "name": "stdout"
        }
      ]
    },
    {
      "cell_type": "code",
      "metadata": {
        "id": "FWZzIHR4lMEs"
      },
      "source": [
        "model_IDG=Sequential([\n",
        "          #1\n",
        "          Conv2D(filters=16,kernel_size=(3,3),padding='same',activation='relu',input_shape=(256,256,3)),\n",
        "          MaxPooling2D(pool_size=(2,2)),\n",
        "\n",
        "          Conv2D(filters=16,kernel_size=(3,3),padding='same',activation='relu'),\n",
        "          MaxPooling2D(pool_size=(2,2)),\n",
        "          #2\n",
        "          Conv2D(filters=32,kernel_size=(3,3),padding='same',activation='relu'),\n",
        "          MaxPooling2D(pool_size=(2,2)),\n",
        "          #3\n",
        "          Conv2D(filters=32,kernel_size=(3,3),padding='same',activation='relu'),\n",
        "          MaxPooling2D(pool_size=(2,2)),\n",
        "          #4\n",
        "          Conv2D(filters=64,kernel_size=(3,3),padding='same',activation='relu'),\n",
        "          MaxPooling2D(pool_size=(2,2)),\n",
        "          Dropout(0.2),\n",
        "\n",
        "          #pass into ANN\n",
        "          Flatten(),\n",
        "          Dense(128,activation='relu'),\n",
        "          #softmax is use for multiclass classification, but for multilabel we will use sigmoid\n",
        "          Dense(12,activation='sigmoid')\n",
        "])\n",
        "\n",
        "#model.add(Reshape((-1,)))\n",
        "model_IDG.compile(optimizer='adam',loss=\"binary_crossentropy\",metrics=[\"accuracy\"])"
      ],
      "execution_count": null,
      "outputs": []
    },
    {
      "cell_type": "code",
      "metadata": {
        "id": "eiR7uY3hliwq"
      },
      "source": [
        "model=Sequential([data_aug,\n",
        "          #1\n",
        "          Conv2D(filters=16,kernel_size=(3,3),padding='same',activation='relu',input_shape=(256,256,3)),\n",
        "          MaxPooling2D(pool_size=(2,2)),\n",
        "\n",
        "          Conv2D(filters=16,kernel_size=(3,3),padding='same',activation='relu'),\n",
        "          MaxPooling2D(pool_size=(2,2)),\n",
        "          #2\n",
        "          Conv2D(filters=32,kernel_size=(3,3),padding='same',activation='relu'),\n",
        "          MaxPooling2D(pool_size=(2,2)),\n",
        "          #3\n",
        "          Conv2D(filters=32,kernel_size=(3,3),padding='same',activation='relu'),\n",
        "          MaxPooling2D(pool_size=(2,2)),\n",
        "          #4\n",
        "          Conv2D(filters=64,kernel_size=(3,3),padding='same',activation='relu'),\n",
        "          MaxPooling2D(pool_size=(2,2)),\n",
        "          Dropout(0.2),\n",
        "\n",
        "          #pass into ANN\n",
        "          Flatten(),\n",
        "          Dense(128,activation='relu'),\n",
        "          #softmax is use for multiclass classification, but for multilabel we will use sigmoid\n",
        "          Dense(12,activation='sigmoid')\n",
        "])\n",
        "\n",
        "#model.add(Reshape((-1,)))\n",
        "model.compile(optimizer='adam',loss=\"binary_crossentropy\",metrics=[\"accuracy\"])"
      ],
      "execution_count": null,
      "outputs": []
    },
    {
      "cell_type": "code",
      "metadata": {
        "colab": {
          "base_uri": "https://localhost:8080/"
        },
        "id": "XXhHNXA-bFGf",
        "outputId": "c899a082-c8a2-4c36-8f5d-59f74d36a1c5"
      },
      "source": [
        "model.summary()"
      ],
      "execution_count": null,
      "outputs": [
        {
          "output_type": "stream",
          "text": [
            "Model: \"sequential\"\n",
            "_________________________________________________________________\n",
            "Layer (type)                 Output Shape              Param #   \n",
            "=================================================================\n",
            "conv2d (Conv2D)              (None, 256, 256, 16)      448       \n",
            "_________________________________________________________________\n",
            "max_pooling2d (MaxPooling2D) (None, 128, 128, 16)      0         \n",
            "_________________________________________________________________\n",
            "conv2d_1 (Conv2D)            (None, 128, 128, 16)      2320      \n",
            "_________________________________________________________________\n",
            "max_pooling2d_1 (MaxPooling2 (None, 64, 64, 16)        0         \n",
            "_________________________________________________________________\n",
            "conv2d_2 (Conv2D)            (None, 64, 64, 32)        4640      \n",
            "_________________________________________________________________\n",
            "max_pooling2d_2 (MaxPooling2 (None, 32, 32, 32)        0         \n",
            "_________________________________________________________________\n",
            "conv2d_3 (Conv2D)            (None, 32, 32, 32)        9248      \n",
            "_________________________________________________________________\n",
            "max_pooling2d_3 (MaxPooling2 (None, 16, 16, 32)        0         \n",
            "_________________________________________________________________\n",
            "conv2d_4 (Conv2D)            (None, 16, 16, 64)        18496     \n",
            "_________________________________________________________________\n",
            "max_pooling2d_4 (MaxPooling2 (None, 8, 8, 64)          0         \n",
            "_________________________________________________________________\n",
            "dropout (Dropout)            (None, 8, 8, 64)          0         \n",
            "_________________________________________________________________\n",
            "flatten (Flatten)            (None, 4096)              0         \n",
            "_________________________________________________________________\n",
            "dense (Dense)                (None, 128)               524416    \n",
            "_________________________________________________________________\n",
            "dense_1 (Dense)              (None, 12)                1548      \n",
            "=================================================================\n",
            "Total params: 561,116\n",
            "Trainable params: 561,116\n",
            "Non-trainable params: 0\n",
            "_________________________________________________________________\n"
          ],
          "name": "stdout"
        }
      ]
    },
    {
      "cell_type": "code",
      "metadata": {
        "colab": {
          "base_uri": "https://localhost:8080/"
        },
        "id": "8-3LJel9i_1G",
        "outputId": "8f040f84-895c-4fca-c4fd-a1e9b0f09d15"
      },
      "source": [
        "model.output_shape"
      ],
      "execution_count": null,
      "outputs": [
        {
          "output_type": "execute_result",
          "data": {
            "text/plain": [
              "(None, 12)"
            ]
          },
          "metadata": {
            "tags": []
          },
          "execution_count": 35
        }
      ]
    },
    {
      "cell_type": "code",
      "metadata": {
        "id": "tfkLY76fpsQK"
      },
      "source": [
        "step_size=train_image_gen.n//train_image_gen.batch_size"
      ],
      "execution_count": null,
      "outputs": []
    },
    {
      "cell_type": "code",
      "metadata": {
        "colab": {
          "base_uri": "https://localhost:8080/"
        },
        "id": "dhHb_elinOjo",
        "outputId": "c55208ec-ec98-4cf7-b104-5778b78afcde"
      },
      "source": [
        "model.fit(scale_x,labels,epochs=100,steps_per_epoch=step_size)"
      ],
      "execution_count": null,
      "outputs": [
        {
          "output_type": "stream",
          "text": [
            "Epoch 1/100\n",
            "2/2 [==============================] - 7s 3s/step - loss: 0.6254 - accuracy: 0.1395\n",
            "Epoch 2/100\n",
            "2/2 [==============================] - 5s 2s/step - loss: 0.3462 - accuracy: 0.2248\n",
            "Epoch 3/100\n",
            "2/2 [==============================] - 4s 2s/step - loss: 0.3693 - accuracy: 0.3256\n",
            "Epoch 4/100\n",
            "2/2 [==============================] - 4s 2s/step - loss: 0.3296 - accuracy: 0.1938\n",
            "Epoch 5/100\n",
            "2/2 [==============================] - 4s 2s/step - loss: 0.3032 - accuracy: 0.2016\n",
            "Epoch 6/100\n",
            "2/2 [==============================] - 4s 2s/step - loss: 0.2784 - accuracy: 0.2016\n",
            "Epoch 7/100\n",
            "2/2 [==============================] - 5s 2s/step - loss: 0.2866 - accuracy: 0.1938\n",
            "Epoch 8/100\n",
            "2/2 [==============================] - 4s 2s/step - loss: 0.2879 - accuracy: 0.2016\n",
            "Epoch 9/100\n",
            "2/2 [==============================] - 4s 2s/step - loss: 0.2896 - accuracy: 0.1783\n",
            "Epoch 10/100\n",
            "2/2 [==============================] - 5s 2s/step - loss: 0.2831 - accuracy: 0.2016\n",
            "Epoch 11/100\n",
            "2/2 [==============================] - 5s 2s/step - loss: 0.2768 - accuracy: 0.2093\n",
            "Epoch 12/100\n",
            "2/2 [==============================] - 4s 2s/step - loss: 0.2725 - accuracy: 0.2248\n",
            "Epoch 13/100\n",
            "2/2 [==============================] - 4s 2s/step - loss: 0.2823 - accuracy: 0.1860\n",
            "Epoch 14/100\n",
            "2/2 [==============================] - 4s 2s/step - loss: 0.2955 - accuracy: 0.1705\n",
            "Epoch 15/100\n",
            "2/2 [==============================] - 4s 2s/step - loss: 0.2803 - accuracy: 0.2248\n",
            "Epoch 16/100\n",
            "2/2 [==============================] - 5s 2s/step - loss: 0.2850 - accuracy: 0.2016\n",
            "Epoch 17/100\n",
            "2/2 [==============================] - 5s 2s/step - loss: 0.2767 - accuracy: 0.1860\n",
            "Epoch 18/100\n",
            "2/2 [==============================] - 5s 2s/step - loss: 0.2675 - accuracy: 0.2171\n",
            "Epoch 19/100\n",
            "2/2 [==============================] - 5s 2s/step - loss: 0.2890 - accuracy: 0.1938\n",
            "Epoch 20/100\n",
            "2/2 [==============================] - 5s 2s/step - loss: 0.2650 - accuracy: 0.2016\n",
            "Epoch 21/100\n",
            "2/2 [==============================] - 5s 2s/step - loss: 0.2761 - accuracy: 0.2248\n",
            "Epoch 22/100\n",
            "2/2 [==============================] - 5s 2s/step - loss: 0.2734 - accuracy: 0.2016\n",
            "Epoch 23/100\n",
            "2/2 [==============================] - 5s 2s/step - loss: 0.2707 - accuracy: 0.2481\n",
            "Epoch 24/100\n",
            "2/2 [==============================] - 5s 2s/step - loss: 0.2725 - accuracy: 0.2093\n",
            "Epoch 25/100\n",
            "2/2 [==============================] - 5s 2s/step - loss: 0.2700 - accuracy: 0.2248\n",
            "Epoch 26/100\n",
            "2/2 [==============================] - 5s 2s/step - loss: 0.2762 - accuracy: 0.2248\n",
            "Epoch 27/100\n",
            "2/2 [==============================] - 5s 2s/step - loss: 0.2565 - accuracy: 0.2481\n",
            "Epoch 28/100\n",
            "2/2 [==============================] - 5s 2s/step - loss: 0.2570 - accuracy: 0.2093\n",
            "Epoch 29/100\n",
            "2/2 [==============================] - 5s 2s/step - loss: 0.2718 - accuracy: 0.2326\n",
            "Epoch 30/100\n",
            "2/2 [==============================] - 5s 2s/step - loss: 0.2582 - accuracy: 0.2481\n",
            "Epoch 31/100\n",
            "2/2 [==============================] - 5s 2s/step - loss: 0.2616 - accuracy: 0.2093\n",
            "Epoch 32/100\n",
            "2/2 [==============================] - 5s 2s/step - loss: 0.2620 - accuracy: 0.2171\n",
            "Epoch 33/100\n",
            "2/2 [==============================] - 5s 2s/step - loss: 0.2649 - accuracy: 0.2713\n",
            "Epoch 34/100\n",
            "2/2 [==============================] - 5s 2s/step - loss: 0.2611 - accuracy: 0.2868\n",
            "Epoch 35/100\n",
            "2/2 [==============================] - 5s 2s/step - loss: 0.2550 - accuracy: 0.2171\n",
            "Epoch 36/100\n",
            "2/2 [==============================] - 5s 2s/step - loss: 0.2575 - accuracy: 0.2791\n",
            "Epoch 37/100\n",
            "2/2 [==============================] - 5s 2s/step - loss: 0.2514 - accuracy: 0.2791\n",
            "Epoch 38/100\n",
            "2/2 [==============================] - 5s 2s/step - loss: 0.2533 - accuracy: 0.2403\n",
            "Epoch 39/100\n",
            "2/2 [==============================] - 5s 2s/step - loss: 0.2476 - accuracy: 0.2946\n",
            "Epoch 40/100\n",
            "2/2 [==============================] - 5s 2s/step - loss: 0.2559 - accuracy: 0.3256\n",
            "Epoch 41/100\n",
            "2/2 [==============================] - 5s 2s/step - loss: 0.2404 - accuracy: 0.2558\n",
            "Epoch 42/100\n",
            "2/2 [==============================] - 5s 2s/step - loss: 0.2430 - accuracy: 0.3178\n",
            "Epoch 43/100\n",
            "2/2 [==============================] - 5s 2s/step - loss: 0.2567 - accuracy: 0.3023\n",
            "Epoch 44/100\n",
            "2/2 [==============================] - 5s 2s/step - loss: 0.2567 - accuracy: 0.2481\n",
            "Epoch 45/100\n",
            "2/2 [==============================] - 5s 2s/step - loss: 0.2393 - accuracy: 0.2791\n",
            "Epoch 46/100\n",
            "2/2 [==============================] - 5s 2s/step - loss: 0.2371 - accuracy: 0.3488\n",
            "Epoch 47/100\n",
            "2/2 [==============================] - 5s 2s/step - loss: 0.2280 - accuracy: 0.4574\n",
            "Epoch 48/100\n",
            "2/2 [==============================] - 5s 2s/step - loss: 0.2239 - accuracy: 0.4031\n",
            "Epoch 49/100\n",
            "2/2 [==============================] - 5s 2s/step - loss: 0.2253 - accuracy: 0.3178\n",
            "Epoch 50/100\n",
            "2/2 [==============================] - 5s 2s/step - loss: 0.2301 - accuracy: 0.3721\n",
            "Epoch 51/100\n",
            "2/2 [==============================] - 5s 2s/step - loss: 0.2158 - accuracy: 0.3101\n",
            "Epoch 52/100\n",
            "2/2 [==============================] - 5s 2s/step - loss: 0.2124 - accuracy: 0.3953\n",
            "Epoch 53/100\n",
            "2/2 [==============================] - 5s 2s/step - loss: 0.2170 - accuracy: 0.3721\n",
            "Epoch 54/100\n",
            "2/2 [==============================] - 5s 2s/step - loss: 0.2125 - accuracy: 0.3721\n",
            "Epoch 55/100\n",
            "2/2 [==============================] - 5s 2s/step - loss: 0.2075 - accuracy: 0.4186\n",
            "Epoch 56/100\n",
            "2/2 [==============================] - 5s 2s/step - loss: 0.2024 - accuracy: 0.4186\n",
            "Epoch 57/100\n",
            "2/2 [==============================] - 5s 2s/step - loss: 0.1992 - accuracy: 0.3488\n",
            "Epoch 58/100\n",
            "2/2 [==============================] - 5s 2s/step - loss: 0.2014 - accuracy: 0.4186\n",
            "Epoch 59/100\n",
            "2/2 [==============================] - 5s 2s/step - loss: 0.1997 - accuracy: 0.3798\n",
            "Epoch 60/100\n",
            "2/2 [==============================] - 5s 2s/step - loss: 0.1934 - accuracy: 0.3953\n",
            "Epoch 61/100\n",
            "2/2 [==============================] - 5s 2s/step - loss: 0.1938 - accuracy: 0.4031\n",
            "Epoch 62/100\n",
            "2/2 [==============================] - 5s 2s/step - loss: 0.1924 - accuracy: 0.3953\n",
            "Epoch 63/100\n",
            "2/2 [==============================] - 5s 2s/step - loss: 0.1872 - accuracy: 0.4109\n",
            "Epoch 64/100\n",
            "2/2 [==============================] - 5s 2s/step - loss: 0.1865 - accuracy: 0.4574\n",
            "Epoch 65/100\n",
            "2/2 [==============================] - 5s 2s/step - loss: 0.1863 - accuracy: 0.3953\n",
            "Epoch 66/100\n",
            "2/2 [==============================] - 5s 2s/step - loss: 0.1777 - accuracy: 0.4574\n",
            "Epoch 67/100\n",
            "2/2 [==============================] - 5s 2s/step - loss: 0.1857 - accuracy: 0.3953\n",
            "Epoch 68/100\n",
            "2/2 [==============================] - 5s 2s/step - loss: 0.1946 - accuracy: 0.3953\n",
            "Epoch 69/100\n",
            "2/2 [==============================] - 5s 2s/step - loss: 0.1729 - accuracy: 0.5426\n",
            "Epoch 70/100\n",
            "2/2 [==============================] - 5s 2s/step - loss: 0.1675 - accuracy: 0.6279\n",
            "Epoch 71/100\n",
            "2/2 [==============================] - 5s 2s/step - loss: 0.1806 - accuracy: 0.5349\n",
            "Epoch 72/100\n",
            "2/2 [==============================] - 5s 2s/step - loss: 0.1761 - accuracy: 0.4806\n",
            "Epoch 73/100\n",
            "2/2 [==============================] - 5s 2s/step - loss: 0.1751 - accuracy: 0.4884\n",
            "Epoch 74/100\n",
            "2/2 [==============================] - 5s 2s/step - loss: 0.1758 - accuracy: 0.4496\n",
            "Epoch 75/100\n",
            "2/2 [==============================] - 5s 2s/step - loss: 0.1693 - accuracy: 0.5039\n",
            "Epoch 76/100\n",
            "2/2 [==============================] - 5s 2s/step - loss: 0.1638 - accuracy: 0.5116\n",
            "Epoch 77/100\n",
            "2/2 [==============================] - 5s 2s/step - loss: 0.1698 - accuracy: 0.5581\n",
            "Epoch 78/100\n",
            "2/2 [==============================] - 5s 2s/step - loss: 0.1752 - accuracy: 0.4884\n",
            "Epoch 79/100\n",
            "2/2 [==============================] - 5s 2s/step - loss: 0.1859 - accuracy: 0.5194\n",
            "Epoch 80/100\n",
            "2/2 [==============================] - 5s 2s/step - loss: 0.1616 - accuracy: 0.4884\n",
            "Epoch 81/100\n",
            "2/2 [==============================] - 5s 2s/step - loss: 0.1799 - accuracy: 0.4961\n",
            "Epoch 82/100\n",
            "2/2 [==============================] - 5s 2s/step - loss: 0.1706 - accuracy: 0.5271\n",
            "Epoch 83/100\n",
            "2/2 [==============================] - 5s 2s/step - loss: 0.1670 - accuracy: 0.5039\n",
            "Epoch 84/100\n",
            "2/2 [==============================] - 5s 2s/step - loss: 0.1652 - accuracy: 0.5116\n",
            "Epoch 85/100\n",
            "2/2 [==============================] - 5s 2s/step - loss: 0.1655 - accuracy: 0.5039\n",
            "Epoch 86/100\n",
            "2/2 [==============================] - 5s 2s/step - loss: 0.1571 - accuracy: 0.5891\n",
            "Epoch 87/100\n",
            "2/2 [==============================] - 5s 2s/step - loss: 0.1742 - accuracy: 0.4419\n",
            "Epoch 88/100\n",
            "2/2 [==============================] - 5s 2s/step - loss: 0.1695 - accuracy: 0.4961\n",
            "Epoch 89/100\n",
            "2/2 [==============================] - 5s 2s/step - loss: 0.1538 - accuracy: 0.5349\n",
            "Epoch 90/100\n",
            "2/2 [==============================] - 5s 2s/step - loss: 0.1580 - accuracy: 0.5659\n",
            "Epoch 91/100\n",
            "2/2 [==============================] - 5s 2s/step - loss: 0.1459 - accuracy: 0.5659\n",
            "Epoch 92/100\n",
            "2/2 [==============================] - 5s 2s/step - loss: 0.1482 - accuracy: 0.5581\n",
            "Epoch 93/100\n",
            "2/2 [==============================] - 5s 2s/step - loss: 0.1535 - accuracy: 0.5426\n",
            "Epoch 94/100\n",
            "2/2 [==============================] - 5s 2s/step - loss: 0.1539 - accuracy: 0.5039\n",
            "Epoch 95/100\n",
            "2/2 [==============================] - 5s 2s/step - loss: 0.1461 - accuracy: 0.5504\n",
            "Epoch 96/100\n",
            "2/2 [==============================] - 5s 2s/step - loss: 0.1452 - accuracy: 0.5814\n",
            "Epoch 97/100\n",
            "2/2 [==============================] - 5s 2s/step - loss: 0.1283 - accuracy: 0.6124\n",
            "Epoch 98/100\n",
            "2/2 [==============================] - 5s 2s/step - loss: 0.1343 - accuracy: 0.5659\n",
            "Epoch 99/100\n",
            "2/2 [==============================] - 5s 2s/step - loss: 0.1514 - accuracy: 0.6202\n",
            "Epoch 100/100\n",
            "2/2 [==============================] - 5s 2s/step - loss: 0.1651 - accuracy: 0.4961\n"
          ],
          "name": "stdout"
        },
        {
          "output_type": "execute_result",
          "data": {
            "text/plain": [
              "<tensorflow.python.keras.callbacks.History at 0x7fc97f6931d0>"
            ]
          },
          "metadata": {
            "tags": []
          },
          "execution_count": 30
        }
      ]
    },
    {
      "cell_type": "code",
      "metadata": {
        "id": "H9i27jhCj6FH",
        "colab": {
          "base_uri": "https://localhost:8080/"
        },
        "outputId": "ef0fa273-2e3e-4681-f7aa-ea8353ab6191"
      },
      "source": [
        "model_IDG.fit(train_image_gen,epochs=100,steps_per_epoch=step_size)"
      ],
      "execution_count": null,
      "outputs": [
        {
          "output_type": "stream",
          "text": [
            "Epoch 1/100\n",
            "2/2 [==============================] - 6s 2s/step - loss: 0.6481 - accuracy: 0.1667\n",
            "Epoch 2/100\n",
            "2/2 [==============================] - 5s 2s/step - loss: 0.3783 - accuracy: 0.2239\n",
            "Epoch 3/100\n",
            "2/2 [==============================] - 4s 1s/step - loss: 0.3338 - accuracy: 0.2419\n",
            "Epoch 4/100\n",
            "2/2 [==============================] - 5s 2s/step - loss: 0.3194 - accuracy: 0.4271\n",
            "Epoch 5/100\n",
            "2/2 [==============================] - 4s 2s/step - loss: 0.2483 - accuracy: 0.2211\n",
            "Epoch 6/100\n",
            "2/2 [==============================] - 5s 2s/step - loss: 0.2882 - accuracy: 0.1979\n",
            "Epoch 7/100\n",
            "2/2 [==============================] - 5s 2s/step - loss: 0.2914 - accuracy: 0.2083\n",
            "Epoch 8/100\n",
            "2/2 [==============================] - 5s 2s/step - loss: 0.2852 - accuracy: 0.1860\n",
            "Epoch 9/100\n",
            "2/2 [==============================] - 4s 2s/step - loss: 0.2803 - accuracy: 0.2334\n",
            "Epoch 10/100\n",
            "2/2 [==============================] - 5s 2s/step - loss: 0.2932 - accuracy: 0.1879\n",
            "Epoch 11/100\n",
            "2/2 [==============================] - 5s 3s/step - loss: 0.2374 - accuracy: 0.2666\n",
            "Epoch 12/100\n",
            "2/2 [==============================] - 5s 2s/step - loss: 0.2810 - accuracy: 0.2188\n",
            "Epoch 13/100\n",
            "2/2 [==============================] - 5s 2s/step - loss: 0.2967 - accuracy: 0.1775\n",
            "Epoch 14/100\n",
            "2/2 [==============================] - 4s 2s/step - loss: 0.2866 - accuracy: 0.2666\n",
            "Epoch 15/100\n",
            "2/2 [==============================] - 5s 2s/step - loss: 0.2918 - accuracy: 0.1979\n",
            "Epoch 16/100\n",
            "2/2 [==============================] - 5s 2s/step - loss: 0.2736 - accuracy: 0.2396\n",
            "Epoch 17/100\n",
            "2/2 [==============================] - 5s 2s/step - loss: 0.2724 - accuracy: 0.2980\n",
            "Epoch 18/100\n",
            "2/2 [==============================] - 5s 2s/step - loss: 0.2812 - accuracy: 0.2292\n",
            "Epoch 19/100\n",
            "2/2 [==============================] - 5s 2s/step - loss: 0.2618 - accuracy: 0.2083\n",
            "Epoch 20/100\n",
            "2/2 [==============================] - 5s 3s/step - loss: 0.2712 - accuracy: 0.2116\n",
            "Epoch 21/100\n",
            "2/2 [==============================] - 5s 2s/step - loss: 0.2838 - accuracy: 0.1667\n",
            "Epoch 22/100\n",
            "2/2 [==============================] - 5s 2s/step - loss: 0.2634 - accuracy: 0.2637\n",
            "Epoch 23/100\n",
            "2/2 [==============================] - 5s 3s/step - loss: 0.2505 - accuracy: 0.2637\n",
            "Epoch 24/100\n",
            "2/2 [==============================] - 5s 3s/step - loss: 0.2927 - accuracy: 0.1964\n",
            "Epoch 25/100\n",
            "2/2 [==============================] - 5s 2s/step - loss: 0.2801 - accuracy: 0.2884\n",
            "Epoch 26/100\n",
            "2/2 [==============================] - 5s 2s/step - loss: 0.2656 - accuracy: 0.2609\n",
            "Epoch 27/100\n",
            "2/2 [==============================] - 5s 3s/step - loss: 0.2641 - accuracy: 0.2666\n",
            "Epoch 28/100\n",
            "2/2 [==============================] - 5s 2s/step - loss: 0.2894 - accuracy: 0.1771\n",
            "Epoch 29/100\n",
            "2/2 [==============================] - 5s 2s/step - loss: 0.2459 - accuracy: 0.2391\n",
            "Epoch 30/100\n",
            "2/2 [==============================] - 5s 2s/step - loss: 0.2398 - accuracy: 0.3634\n",
            "Epoch 31/100\n",
            "2/2 [==============================] - 5s 2s/step - loss: 0.2648 - accuracy: 0.3008\n",
            "Epoch 32/100\n",
            "2/2 [==============================] - 5s 2s/step - loss: 0.2605 - accuracy: 0.3709\n",
            "Epoch 33/100\n",
            "2/2 [==============================] - 5s 2s/step - loss: 0.2648 - accuracy: 0.3102\n",
            "Epoch 34/100\n",
            "2/2 [==============================] - 5s 2s/step - loss: 0.2721 - accuracy: 0.2486\n",
            "Epoch 35/100\n",
            "2/2 [==============================] - 5s 2s/step - loss: 0.2441 - accuracy: 0.2514\n",
            "Epoch 36/100\n",
            "2/2 [==============================] - 5s 2s/step - loss: 0.2655 - accuracy: 0.2188\n",
            "Epoch 37/100\n",
            "2/2 [==============================] - 5s 3s/step - loss: 0.2564 - accuracy: 0.2761\n",
            "Epoch 38/100\n",
            "2/2 [==============================] - 5s 2s/step - loss: 0.2599 - accuracy: 0.3854\n",
            "Epoch 39/100\n",
            "2/2 [==============================] - 5s 2s/step - loss: 0.2863 - accuracy: 0.2183\n",
            "Epoch 40/100\n",
            "2/2 [==============================] - 5s 2s/step - loss: 0.2480 - accuracy: 0.3861\n",
            "Epoch 41/100\n",
            "2/2 [==============================] - 5s 2s/step - loss: 0.2393 - accuracy: 0.3750\n",
            "Epoch 42/100\n",
            "2/2 [==============================] - 5s 2s/step - loss: 0.2469 - accuracy: 0.3333\n",
            "Epoch 43/100\n",
            "2/2 [==============================] - 5s 2s/step - loss: 0.2661 - accuracy: 0.2458\n",
            "Epoch 44/100\n",
            "2/2 [==============================] - 4s 2s/step - loss: 0.2908 - accuracy: 0.2106\n",
            "Epoch 45/100\n",
            "2/2 [==============================] - 5s 2s/step - loss: 0.2508 - accuracy: 0.3333\n",
            "Epoch 46/100\n",
            "2/2 [==============================] - 4s 1s/step - loss: 0.2549 - accuracy: 0.3407\n",
            "Epoch 47/100\n",
            "2/2 [==============================] - 4s 2s/step - loss: 0.2430 - accuracy: 0.4070\n",
            "Epoch 48/100\n",
            "2/2 [==============================] - 5s 3s/step - loss: 0.2309 - accuracy: 0.2912\n",
            "Epoch 49/100\n",
            "2/2 [==============================] - 5s 2s/step - loss: 0.2359 - accuracy: 0.2666\n",
            "Epoch 50/100\n",
            "2/2 [==============================] - 4s 2s/step - loss: 0.2418 - accuracy: 0.3472\n",
            "Epoch 51/100\n",
            "2/2 [==============================] - 5s 2s/step - loss: 0.2073 - accuracy: 0.5995\n",
            "Epoch 52/100\n",
            "2/2 [==============================] - 4s 2s/step - loss: 0.2541 - accuracy: 0.3843\n",
            "Epoch 53/100\n",
            "2/2 [==============================] - 5s 2s/step - loss: 0.2381 - accuracy: 0.4487\n",
            "Epoch 54/100\n",
            "2/2 [==============================] - 4s 2s/step - loss: 0.2202 - accuracy: 0.3368\n",
            "Epoch 55/100\n",
            "2/2 [==============================] - 4s 2s/step - loss: 0.2383 - accuracy: 0.2809\n",
            "Epoch 56/100\n",
            "2/2 [==============================] - 4s 2s/step - loss: 0.2509 - accuracy: 0.3140\n",
            "Epoch 57/100\n",
            "2/2 [==============================] - 4s 2s/step - loss: 0.2504 - accuracy: 0.3738\n",
            "Epoch 58/100\n",
            "2/2 [==============================] - 5s 2s/step - loss: 0.2183 - accuracy: 0.5455\n",
            "Epoch 59/100\n",
            "2/2 [==============================] - 5s 2s/step - loss: 0.2338 - accuracy: 0.4479\n",
            "Epoch 60/100\n",
            "2/2 [==============================] - 5s 2s/step - loss: 0.2180 - accuracy: 0.2514\n",
            "Epoch 61/100\n",
            "2/2 [==============================] - 5s 3s/step - loss: 0.2401 - accuracy: 0.2761\n",
            "Epoch 62/100\n",
            "2/2 [==============================] - 5s 2s/step - loss: 0.2426 - accuracy: 0.2812\n",
            "Epoch 63/100\n",
            "2/2 [==============================] - 5s 2s/step - loss: 0.2402 - accuracy: 0.3021\n",
            "Epoch 64/100\n",
            "2/2 [==============================] - 4s 2s/step - loss: 0.2193 - accuracy: 0.3596\n",
            "Epoch 65/100\n",
            "2/2 [==============================] - 5s 2s/step - loss: 0.2496 - accuracy: 0.3036\n",
            "Epoch 66/100\n",
            "2/2 [==============================] - 4s 2s/step - loss: 0.2276 - accuracy: 0.3036\n",
            "Epoch 67/100\n",
            "2/2 [==============================] - 5s 2s/step - loss: 0.2439 - accuracy: 0.3125\n",
            "Epoch 68/100\n",
            "2/2 [==============================] - 5s 2s/step - loss: 0.2170 - accuracy: 0.3750\n",
            "Epoch 69/100\n",
            "2/2 [==============================] - 5s 2s/step - loss: 0.2393 - accuracy: 0.3542\n",
            "Epoch 70/100\n",
            "2/2 [==============================] - 5s 2s/step - loss: 0.2260 - accuracy: 0.4259\n",
            "Epoch 71/100\n",
            "2/2 [==============================] - 5s 2s/step - loss: 0.2358 - accuracy: 0.2666\n",
            "Epoch 72/100\n",
            "2/2 [==============================] - 5s 2s/step - loss: 0.2398 - accuracy: 0.2708\n",
            "Epoch 73/100\n",
            "2/2 [==============================] - 4s 2s/step - loss: 0.2183 - accuracy: 0.3596\n",
            "Epoch 74/100\n",
            "2/2 [==============================] - 5s 2s/step - loss: 0.2176 - accuracy: 0.4602\n",
            "Epoch 75/100\n",
            "2/2 [==============================] - 5s 2s/step - loss: 0.2401 - accuracy: 0.5152\n",
            "Epoch 76/100\n",
            "2/2 [==============================] - 5s 2s/step - loss: 0.2402 - accuracy: 0.3958\n",
            "Epoch 77/100\n",
            "2/2 [==============================] - 5s 2s/step - loss: 0.2271 - accuracy: 0.3719\n",
            "Epoch 78/100\n",
            "2/2 [==============================] - 5s 2s/step - loss: 0.2082 - accuracy: 0.4819\n",
            "Epoch 79/100\n",
            "2/2 [==============================] - 5s 2s/step - loss: 0.2041 - accuracy: 0.3854\n",
            "Epoch 80/100\n",
            "2/2 [==============================] - 5s 2s/step - loss: 0.2041 - accuracy: 0.4167\n",
            "Epoch 81/100\n",
            "2/2 [==============================] - 5s 2s/step - loss: 0.2248 - accuracy: 0.5417\n",
            "Epoch 82/100\n",
            "2/2 [==============================] - 4s 2s/step - loss: 0.2557 - accuracy: 0.3511\n",
            "Epoch 83/100\n",
            "2/2 [==============================] - 5s 3s/step - loss: 0.2358 - accuracy: 0.3833\n",
            "Epoch 84/100\n",
            "2/2 [==============================] - 4s 2s/step - loss: 0.2231 - accuracy: 0.4051\n",
            "Epoch 85/100\n",
            "2/2 [==============================] - 5s 2s/step - loss: 0.2361 - accuracy: 0.3021\n",
            "Epoch 86/100\n",
            "2/2 [==============================] - 5s 2s/step - loss: 0.2287 - accuracy: 0.3434\n",
            "Epoch 87/100\n",
            "2/2 [==============================] - 5s 2s/step - loss: 0.2320 - accuracy: 0.3854\n",
            "Epoch 88/100\n",
            "2/2 [==============================] - 5s 3s/step - loss: 0.2227 - accuracy: 0.3861\n",
            "Epoch 89/100\n",
            "2/2 [==============================] - 5s 2s/step - loss: 0.2251 - accuracy: 0.3653\n",
            "Epoch 90/100\n",
            "2/2 [==============================] - 5s 3s/step - loss: 0.1879 - accuracy: 0.5247\n",
            "Epoch 91/100\n",
            "2/2 [==============================] - 5s 2s/step - loss: 0.2263 - accuracy: 0.3542\n",
            "Epoch 92/100\n",
            "2/2 [==============================] - 5s 2s/step - loss: 0.2474 - accuracy: 0.4147\n",
            "Epoch 93/100\n",
            "2/2 [==============================] - 5s 2s/step - loss: 0.2182 - accuracy: 0.4062\n",
            "Epoch 94/100\n",
            "2/2 [==============================] - 5s 2s/step - loss: 0.2149 - accuracy: 0.3653\n",
            "Epoch 95/100\n",
            "2/2 [==============================] - 5s 2s/step - loss: 0.2153 - accuracy: 0.4070\n",
            "Epoch 96/100\n",
            "2/2 [==============================] - 5s 2s/step - loss: 0.2222 - accuracy: 0.3958\n",
            "Epoch 97/100\n",
            "2/2 [==============================] - 5s 2s/step - loss: 0.2028 - accuracy: 0.3750\n",
            "Epoch 98/100\n",
            "2/2 [==============================] - 5s 3s/step - loss: 0.1973 - accuracy: 0.4108\n",
            "Epoch 99/100\n",
            "2/2 [==============================] - 5s 2s/step - loss: 0.2234 - accuracy: 0.5521\n",
            "Epoch 100/100\n",
            "2/2 [==============================] - 5s 2s/step - loss: 0.2289 - accuracy: 0.4686\n"
          ],
          "name": "stdout"
        },
        {
          "output_type": "execute_result",
          "data": {
            "text/plain": [
              "<tensorflow.python.keras.callbacks.History at 0x7fc97eba9a58>"
            ]
          },
          "metadata": {
            "tags": []
          },
          "execution_count": 39
        }
      ]
    },
    {
      "cell_type": "code",
      "metadata": {
        "id": "aXZ8DW5HVgWZ"
      },
      "source": [
        ""
      ],
      "execution_count": null,
      "outputs": []
    }
  ]
}