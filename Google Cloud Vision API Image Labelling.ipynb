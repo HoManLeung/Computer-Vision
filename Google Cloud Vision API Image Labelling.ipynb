{
 "cells": [
  {
   "cell_type": "code",
   "execution_count": 22,
   "metadata": {},
   "outputs": [],
   "source": [
    "import os,io\n",
    "from google.cloud import vision\n",
    "import pandas as pd\n",
    "import numpy as np"
   ]
  },
  {
   "cell_type": "code",
   "execution_count": 2,
   "metadata": {},
   "outputs": [
    {
     "name": "stdout",
     "output_type": "stream",
     "text": [
      "Requirement already satisfied: google-cloud-vision in c:\\users\\asuspc\\anaconda3\\lib\\site-packages (2.0.0)Note: you may need to restart the kernel to use updated packages.\n",
      "\n",
      "Requirement already satisfied: proto-plus>=1.4.0 in c:\\users\\asuspc\\anaconda3\\lib\\site-packages (from google-cloud-vision) (1.13.0)\n",
      "Requirement already satisfied: libcst>=0.2.5 in c:\\users\\asuspc\\anaconda3\\lib\\site-packages (from google-cloud-vision) (0.3.15)\n",
      "Requirement already satisfied: google-api-core[grpc]<2.0.0dev,>=1.22.2 in c:\\users\\asuspc\\anaconda3\\lib\\site-packages (from google-cloud-vision) (1.23.0)\n",
      "Requirement already satisfied: googleapis-common-protos<2.0dev,>=1.6.0 in c:\\users\\asuspc\\anaconda3\\lib\\site-packages (from google-api-core[grpc]<2.0.0dev,>=1.22.2->google-cloud-vision) (1.52.0)\n",
      "Requirement already satisfied: google-auth<2.0dev,>=1.21.1 in c:\\users\\asuspc\\anaconda3\\lib\\site-packages (from google-api-core[grpc]<2.0.0dev,>=1.22.2->google-cloud-vision) (1.23.0)\n",
      "Requirement already satisfied: requests<3.0.0dev,>=2.18.0 in c:\\users\\asuspc\\anaconda3\\lib\\site-packages (from google-api-core[grpc]<2.0.0dev,>=1.22.2->google-cloud-vision) (2.24.0)\n",
      "Requirement already satisfied: six>=1.13.0 in c:\\users\\asuspc\\anaconda3\\lib\\site-packages (from google-api-core[grpc]<2.0.0dev,>=1.22.2->google-cloud-vision) (1.15.0)\n",
      "Requirement already satisfied: pytz in c:\\users\\asuspc\\anaconda3\\lib\\site-packages (from google-api-core[grpc]<2.0.0dev,>=1.22.2->google-cloud-vision) (2020.1)\n",
      "Requirement already satisfied: setuptools>=34.0.0 in c:\\users\\asuspc\\anaconda3\\lib\\site-packages (from google-api-core[grpc]<2.0.0dev,>=1.22.2->google-cloud-vision) (49.2.0.post20200714)\n",
      "Requirement already satisfied: protobuf>=3.12.0 in c:\\users\\asuspc\\anaconda3\\lib\\site-packages (from google-api-core[grpc]<2.0.0dev,>=1.22.2->google-cloud-vision) (3.14.0)\n",
      "Requirement already satisfied: grpcio<2.0dev,>=1.29.0 in c:\\users\\asuspc\\anaconda3\\lib\\site-packages (from google-api-core[grpc]<2.0.0dev,>=1.22.2->google-cloud-vision) (1.34.0)\n",
      "Requirement already satisfied: googleapis-common-protos<2.0dev,>=1.6.0 in c:\\users\\asuspc\\anaconda3\\lib\\site-packages (from google-api-core[grpc]<2.0.0dev,>=1.22.2->google-cloud-vision) (1.52.0)\n",
      "Requirement already satisfied: google-auth<2.0dev,>=1.21.1 in c:\\users\\asuspc\\anaconda3\\lib\\site-packages (from google-api-core[grpc]<2.0.0dev,>=1.22.2->google-cloud-vision) (1.23.0)\n",
      "Requirement already satisfied: requests<3.0.0dev,>=2.18.0 in c:\\users\\asuspc\\anaconda3\\lib\\site-packages (from google-api-core[grpc]<2.0.0dev,>=1.22.2->google-cloud-vision) (2.24.0)\n",
      "Requirement already satisfied: six>=1.13.0 in c:\\users\\asuspc\\anaconda3\\lib\\site-packages (from google-api-core[grpc]<2.0.0dev,>=1.22.2->google-cloud-vision) (1.15.0)\n",
      "Requirement already satisfied: pytz in c:\\users\\asuspc\\anaconda3\\lib\\site-packages (from google-api-core[grpc]<2.0.0dev,>=1.22.2->google-cloud-vision) (2020.1)\n",
      "Requirement already satisfied: setuptools>=34.0.0 in c:\\users\\asuspc\\anaconda3\\lib\\site-packages (from google-api-core[grpc]<2.0.0dev,>=1.22.2->google-cloud-vision) (49.2.0.post20200714)\n",
      "Requirement already satisfied: protobuf>=3.12.0 in c:\\users\\asuspc\\anaconda3\\lib\\site-packages (from google-api-core[grpc]<2.0.0dev,>=1.22.2->google-cloud-vision) (3.14.0)\n",
      "Requirement already satisfied: setuptools>=34.0.0 in c:\\users\\asuspc\\anaconda3\\lib\\site-packages (from google-api-core[grpc]<2.0.0dev,>=1.22.2->google-cloud-vision) (49.2.0.post20200714)\n",
      "Requirement already satisfied: pyasn1-modules>=0.2.1 in c:\\users\\asuspc\\anaconda3\\lib\\site-packages (from google-auth<2.0dev,>=1.21.1->google-api-core[grpc]<2.0.0dev,>=1.22.2->google-cloud-vision) (0.2.8)\n",
      "Requirement already satisfied: six>=1.13.0 in c:\\users\\asuspc\\anaconda3\\lib\\site-packages (from google-api-core[grpc]<2.0.0dev,>=1.22.2->google-cloud-vision) (1.15.0)\n",
      "Requirement already satisfied: rsa<5,>=3.1.4 in c:\\users\\asuspc\\anaconda3\\lib\\site-packages (from google-auth<2.0dev,>=1.21.1->google-api-core[grpc]<2.0.0dev,>=1.22.2->google-cloud-vision) (4.6)\n",
      "Requirement already satisfied: cachetools<5.0,>=2.0.0 in c:\\users\\asuspc\\anaconda3\\lib\\site-packages (from google-auth<2.0dev,>=1.21.1->google-api-core[grpc]<2.0.0dev,>=1.22.2->google-cloud-vision) (4.1.1)\n",
      "Requirement already satisfied: protobuf>=3.12.0 in c:\\users\\asuspc\\anaconda3\\lib\\site-packages (from google-api-core[grpc]<2.0.0dev,>=1.22.2->google-cloud-vision) (3.14.0)\n",
      "Requirement already satisfied: six>=1.13.0 in c:\\users\\asuspc\\anaconda3\\lib\\site-packages (from google-api-core[grpc]<2.0.0dev,>=1.22.2->google-cloud-vision) (1.15.0)\n",
      "Requirement already satisfied: typing-inspect>=0.4.0 in c:\\users\\asuspc\\anaconda3\\lib\\site-packages (from libcst>=0.2.5->google-cloud-vision) (0.6.0)\n",
      "Requirement already satisfied: pyyaml>=5.2 in c:\\users\\asuspc\\anaconda3\\lib\\site-packages (from libcst>=0.2.5->google-cloud-vision) (5.3.1)\n",
      "Requirement already satisfied: typing-extensions>=3.7.4.2 in c:\\users\\asuspc\\anaconda3\\lib\\site-packages (from libcst>=0.2.5->google-cloud-vision) (3.7.4.2)\n",
      "Requirement already satisfied: protobuf>=3.12.0 in c:\\users\\asuspc\\anaconda3\\lib\\site-packages (from google-api-core[grpc]<2.0.0dev,>=1.22.2->google-cloud-vision) (3.14.0)\n",
      "Requirement already satisfied: six>=1.13.0 in c:\\users\\asuspc\\anaconda3\\lib\\site-packages (from google-api-core[grpc]<2.0.0dev,>=1.22.2->google-cloud-vision) (1.15.0)\n",
      "Requirement already satisfied: pyasn1<0.5.0,>=0.4.6 in c:\\users\\asuspc\\anaconda3\\lib\\site-packages (from pyasn1-modules>=0.2.1->google-auth<2.0dev,>=1.21.1->google-api-core[grpc]<2.0.0dev,>=1.22.2->google-cloud-vision) (0.4.8)\n",
      "Requirement already satisfied: chardet<4,>=3.0.2 in c:\\users\\asuspc\\anaconda3\\lib\\site-packages (from requests<3.0.0dev,>=2.18.0->google-api-core[grpc]<2.0.0dev,>=1.22.2->google-cloud-vision) (3.0.4)\n",
      "Requirement already satisfied: certifi>=2017.4.17 in c:\\users\\asuspc\\anaconda3\\lib\\site-packages (from requests<3.0.0dev,>=2.18.0->google-api-core[grpc]<2.0.0dev,>=1.22.2->google-cloud-vision) (2020.12.5)\n",
      "Requirement already satisfied: idna<3,>=2.5 in c:\\users\\asuspc\\anaconda3\\lib\\site-packages (from requests<3.0.0dev,>=2.18.0->google-api-core[grpc]<2.0.0dev,>=1.22.2->google-cloud-vision) (2.10)\n",
      "Requirement already satisfied: urllib3!=1.25.0,!=1.25.1,<1.26,>=1.21.1 in c:\\users\\asuspc\\anaconda3\\lib\\site-packages (from requests<3.0.0dev,>=2.18.0->google-api-core[grpc]<2.0.0dev,>=1.22.2->google-cloud-vision) (1.25.9)\n",
      "Requirement already satisfied: pyasn1<0.5.0,>=0.4.6 in c:\\users\\asuspc\\anaconda3\\lib\\site-packages (from pyasn1-modules>=0.2.1->google-auth<2.0dev,>=1.21.1->google-api-core[grpc]<2.0.0dev,>=1.22.2->google-cloud-vision) (0.4.8)\n",
      "Requirement already satisfied: typing-extensions>=3.7.4.2 in c:\\users\\asuspc\\anaconda3\\lib\\site-packages (from libcst>=0.2.5->google-cloud-vision) (3.7.4.2)\n",
      "Requirement already satisfied: mypy-extensions>=0.3.0 in c:\\users\\asuspc\\anaconda3\\lib\\site-packages (from typing-inspect>=0.4.0->libcst>=0.2.5->google-cloud-vision) (0.4.3)\n"
     ]
    }
   ],
   "source": [
    "pip install google-cloud-vision "
   ]
  },
  {
   "cell_type": "code",
   "execution_count": 3,
   "metadata": {},
   "outputs": [],
   "source": [
    "os.environ['GOOGLE_APPLICATION_CREDENTIALS']=r'KMart_image_key.json'"
   ]
  },
  {
   "cell_type": "code",
   "execution_count": 4,
   "metadata": {},
   "outputs": [],
   "source": [
    "client=vision.ImageAnnotatorClient()"
   ]
  },
  {
   "cell_type": "code",
   "execution_count": 54,
   "metadata": {},
   "outputs": [],
   "source": [
    "filename='02d88b364f.jpg'\n",
    "path=f'.\\Image\\{filename}'"
   ]
  },
  {
   "cell_type": "code",
   "execution_count": 55,
   "metadata": {},
   "outputs": [],
   "source": [
    "with io.open(path,'rb') as image_file:\n",
    "    content=image_file.read()\n",
    "    \n",
    "image=vision.Image(content=content)\n",
    "response=client.label_detection(image=image)"
   ]
  },
  {
   "cell_type": "code",
   "execution_count": 56,
   "metadata": {},
   "outputs": [
    {
     "name": "stdout",
     "output_type": "stream",
     "text": [
      "[mid: \"/m/09j2d\"\n",
      "description: \"Clothing\"\n",
      "score: 0.99251765\n",
      "topicality: 0.99251765\n",
      ", mid: \"/m/038hg\"\n",
      "description: \"Green\"\n",
      "score: 0.9779326\n",
      "topicality: 0.9779326\n",
      ", mid: \"/m/062581\"\n",
      "description: \"Sleeve\"\n",
      "score: 0.97102255\n",
      "topicality: 0.97102255\n",
      ", mid: \"/m/01d40f\"\n",
      "description: \"Dress\"\n",
      "score: 0.96910757\n",
      "topicality: 0.96910757\n",
      ", mid: \"/m/01ssh5\"\n",
      "description: \"Shoulder\"\n",
      "score: 0.9656548\n",
      "topicality: 0.9656548\n",
      ", mid: \"/m/0dnr7\"\n",
      "description: \"Textile\"\n",
      "score: 0.9589257\n",
      "topicality: 0.9589257\n",
      ", mid: \"/m/06fvc\"\n",
      "description: \"Red\"\n",
      "score: 0.9578064\n",
      "topicality: 0.9578064\n",
      ", mid: \"/m/01dvt1\"\n",
      "description: \"Joint\"\n",
      "score: 0.95393455\n",
      "topicality: 0.95393455\n",
      ", mid: \"/m/02wzbmj\"\n",
      "description: \"Standing\"\n",
      "score: 0.9498684\n",
      "topicality: 0.9498684\n",
      ", mid: \"/m/016q19\"\n",
      "description: \"Petal\"\n",
      "score: 0.9474781\n",
      "topicality: 0.9474781\n",
      "]\n"
     ]
    }
   ],
   "source": [
    "# top 3 score of image\n",
    "print(response.label_annotations)"
   ]
  },
  {
   "cell_type": "code",
   "execution_count": 43,
   "metadata": {},
   "outputs": [],
   "source": [
    "df=pd.DataFrame(columns=['Image_name','description','score','topicality'])\n",
    "\n",
    "for file in os.listdir(\"./Image\"):\n",
    "    path=f'./Image/{file}'\n",
    "    \n",
    "    with io.open(path,'rb') as image_file:\n",
    "        content=image_file.read()\n",
    "        image=vision.Image(content=content)\n",
    "        response=client.label_detection(image=image)\n",
    "        \n",
    "        # top three\n",
    "        labels=response.label_annotations[:3]\n",
    "        \n",
    "        for label in labels:\n",
    "            df=df.append({'Image_name':file,'description':label.description,\n",
    "                         'score':label.score,'topicality':label.topicality},ignore_index=True)"
   ]
  },
  {
   "cell_type": "code",
   "execution_count": 52,
   "metadata": {},
   "outputs": [
    {
     "data": {
      "text/html": [
       "<div>\n",
       "<style scoped>\n",
       "    .dataframe tbody tr th:only-of-type {\n",
       "        vertical-align: middle;\n",
       "    }\n",
       "\n",
       "    .dataframe tbody tr th {\n",
       "        vertical-align: top;\n",
       "    }\n",
       "\n",
       "    .dataframe thead th {\n",
       "        text-align: right;\n",
       "    }\n",
       "</style>\n",
       "<table border=\"1\" class=\"dataframe\">\n",
       "  <thead>\n",
       "    <tr style=\"text-align: right;\">\n",
       "      <th></th>\n",
       "      <th>Image_name</th>\n",
       "      <th>description</th>\n",
       "      <th>score</th>\n",
       "      <th>topicality</th>\n",
       "    </tr>\n",
       "  </thead>\n",
       "  <tbody>\n",
       "    <tr>\n",
       "      <th>0</th>\n",
       "      <td>000ac7f648.jpg</td>\n",
       "      <td>Clothing</td>\n",
       "      <td>0.992143</td>\n",
       "      <td>0.992143</td>\n",
       "    </tr>\n",
       "    <tr>\n",
       "      <th>1</th>\n",
       "      <td>000ac7f648.jpg</td>\n",
       "      <td>Sleeve</td>\n",
       "      <td>0.971029</td>\n",
       "      <td>0.971029</td>\n",
       "    </tr>\n",
       "    <tr>\n",
       "      <th>2</th>\n",
       "      <td>000ac7f648.jpg</td>\n",
       "      <td>Shoulder</td>\n",
       "      <td>0.965546</td>\n",
       "      <td>0.965546</td>\n",
       "    </tr>\n",
       "    <tr>\n",
       "      <th>3</th>\n",
       "      <td>0187c40f0a.jpg</td>\n",
       "      <td>Sleeve</td>\n",
       "      <td>0.971030</td>\n",
       "      <td>0.971030</td>\n",
       "    </tr>\n",
       "    <tr>\n",
       "      <th>4</th>\n",
       "      <td>0187c40f0a.jpg</td>\n",
       "      <td>Pattern</td>\n",
       "      <td>0.968143</td>\n",
       "      <td>0.968143</td>\n",
       "    </tr>\n",
       "    <tr>\n",
       "      <th>...</th>\n",
       "      <td>...</td>\n",
       "      <td>...</td>\n",
       "      <td>...</td>\n",
       "      <td>...</td>\n",
       "    </tr>\n",
       "    <tr>\n",
       "      <th>289</th>\n",
       "      <td>image2.jpg</td>\n",
       "      <td>Product</td>\n",
       "      <td>0.976797</td>\n",
       "      <td>0.976797</td>\n",
       "    </tr>\n",
       "    <tr>\n",
       "      <th>290</th>\n",
       "      <td>image2.jpg</td>\n",
       "      <td>Sleeve</td>\n",
       "      <td>0.970998</td>\n",
       "      <td>0.970998</td>\n",
       "    </tr>\n",
       "    <tr>\n",
       "      <th>291</th>\n",
       "      <td>image3.jpg</td>\n",
       "      <td>Collar</td>\n",
       "      <td>0.972522</td>\n",
       "      <td>0.972522</td>\n",
       "    </tr>\n",
       "    <tr>\n",
       "      <th>292</th>\n",
       "      <td>image3.jpg</td>\n",
       "      <td>Sleeve</td>\n",
       "      <td>0.971030</td>\n",
       "      <td>0.971030</td>\n",
       "    </tr>\n",
       "    <tr>\n",
       "      <th>293</th>\n",
       "      <td>image3.jpg</td>\n",
       "      <td>Shoulder</td>\n",
       "      <td>0.965654</td>\n",
       "      <td>0.965654</td>\n",
       "    </tr>\n",
       "  </tbody>\n",
       "</table>\n",
       "<p>294 rows × 4 columns</p>\n",
       "</div>"
      ],
      "text/plain": [
       "         Image_name description     score  topicality\n",
       "0    000ac7f648.jpg    Clothing  0.992143    0.992143\n",
       "1    000ac7f648.jpg      Sleeve  0.971029    0.971029\n",
       "2    000ac7f648.jpg    Shoulder  0.965546    0.965546\n",
       "3    0187c40f0a.jpg      Sleeve  0.971030    0.971030\n",
       "4    0187c40f0a.jpg     Pattern  0.968143    0.968143\n",
       "..              ...         ...       ...         ...\n",
       "289      image2.jpg     Product  0.976797    0.976797\n",
       "290      image2.jpg      Sleeve  0.970998    0.970998\n",
       "291      image3.jpg      Collar  0.972522    0.972522\n",
       "292      image3.jpg      Sleeve  0.971030    0.971030\n",
       "293      image3.jpg    Shoulder  0.965654    0.965654\n",
       "\n",
       "[294 rows x 4 columns]"
      ]
     },
     "execution_count": 52,
     "metadata": {},
     "output_type": "execute_result"
    }
   ],
   "source": [
    "df"
   ]
  },
  {
   "cell_type": "code",
   "execution_count": 53,
   "metadata": {},
   "outputs": [],
   "source": [
    "df.to_csv('Image_label_demo.csv')"
   ]
  },
  {
   "cell_type": "code",
   "execution_count": null,
   "metadata": {},
   "outputs": [],
   "source": []
  }
 ],
 "metadata": {
  "kernelspec": {
   "display_name": "Python 3",
   "language": "python",
   "name": "python3"
  },
  "language_info": {
   "codemirror_mode": {
    "name": "ipython",
    "version": 3
   },
   "file_extension": ".py",
   "mimetype": "text/x-python",
   "name": "python",
   "nbconvert_exporter": "python",
   "pygments_lexer": "ipython3",
   "version": "3.8.8"
  }
 },
 "nbformat": 4,
 "nbformat_minor": 4
}
